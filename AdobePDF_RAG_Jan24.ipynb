{
  "nbformat": 4,
  "nbformat_minor": 0,
  "metadata": {
    "colab": {
      "provenance": [],
      "authorship_tag": "ABX9TyOw3+JSAHatWJwz+J9gz1DS",
      "include_colab_link": true
    },
    "kernelspec": {
      "name": "python3",
      "display_name": "Python 3"
    },
    "language_info": {
      "name": "python"
    }
  },
  "cells": [
    {
      "cell_type": "markdown",
      "metadata": {
        "id": "view-in-github",
        "colab_type": "text"
      },
      "source": [
        "<a href=\"https://colab.research.google.com/github/gauravz7/RAG/blob/main/AdobePDF_RAG_Jan24.ipynb\" target=\"_parent\"><img src=\"https://colab.research.google.com/assets/colab-badge.svg\" alt=\"Open In Colab\"/></a>"
      ]
    },
    {
      "cell_type": "code",
      "execution_count": 3,
      "metadata": {
        "colab": {
          "base_uri": "https://localhost:8080/"
        },
        "id": "Kt4X-OSk3emx",
        "outputId": "4050dee0-d5dc-4575-bb5c-ad15124dbe63"
      },
      "outputs": [
        {
          "output_type": "stream",
          "name": "stdout",
          "text": [
            "Requirement already satisfied: pdfservices-sdk in /usr/local/lib/python3.10/dist-packages (2.3.0)\n",
            "Requirement already satisfied: build==0.9.0 in /usr/local/lib/python3.10/dist-packages (from pdfservices-sdk) (0.9.0)\n",
            "Requirement already satisfied: certifi==2022.12.7 in /usr/local/lib/python3.10/dist-packages (from pdfservices-sdk) (2022.12.7)\n",
            "Requirement already satisfied: cffi==1.15.1 in /usr/local/lib/python3.10/dist-packages (from pdfservices-sdk) (1.15.1)\n",
            "Requirement already satisfied: cryptography==3.4.6 in /usr/local/lib/python3.10/dist-packages (from pdfservices-sdk) (3.4.6)\n",
            "Requirement already satisfied: multipart==0.2.4 in /usr/local/lib/python3.10/dist-packages (from pdfservices-sdk) (0.2.4)\n",
            "Requirement already satisfied: packaging==21.3 in /usr/local/lib/python3.10/dist-packages (from pdfservices-sdk) (21.3)\n",
            "Requirement already satisfied: pep517==0.13.0 in /usr/local/lib/python3.10/dist-packages (from pdfservices-sdk) (0.13.0)\n",
            "Requirement already satisfied: polling==0.3.2 in /usr/local/lib/python3.10/dist-packages (from pdfservices-sdk) (0.3.2)\n",
            "Requirement already satisfied: polling2==0.5.0 in /usr/local/lib/python3.10/dist-packages (from pdfservices-sdk) (0.5.0)\n",
            "Requirement already satisfied: pycparser==2.21 in /usr/local/lib/python3.10/dist-packages (from pdfservices-sdk) (2.21)\n",
            "Requirement already satisfied: Pygments==2.14.0 in /usr/local/lib/python3.10/dist-packages (from pdfservices-sdk) (2.14.0)\n",
            "Requirement already satisfied: PyJWT==2.4.0 in /usr/local/lib/python3.10/dist-packages (from pdfservices-sdk) (2.4.0)\n",
            "Requirement already satisfied: pyparsing==3.0.9 in /usr/local/lib/python3.10/dist-packages (from pdfservices-sdk) (3.0.9)\n",
            "Requirement already satisfied: PyYAML==6.0 in /usr/local/lib/python3.10/dist-packages (from pdfservices-sdk) (6.0)\n",
            "Requirement already satisfied: requests==2.27.1 in /usr/local/lib/python3.10/dist-packages (from pdfservices-sdk) (2.27.1)\n",
            "Requirement already satisfied: requests-toolbelt==0.10.1 in /usr/local/lib/python3.10/dist-packages (from pdfservices-sdk) (0.10.1)\n",
            "Requirement already satisfied: six==1.16.0 in /usr/local/lib/python3.10/dist-packages (from pdfservices-sdk) (1.16.0)\n",
            "Requirement already satisfied: toml==0.10.2 in /usr/local/lib/python3.10/dist-packages (from pdfservices-sdk) (0.10.2)\n",
            "Requirement already satisfied: urllib3==1.26.13 in /usr/local/lib/python3.10/dist-packages (from pdfservices-sdk) (1.26.13)\n",
            "Requirement already satisfied: tomli>=1.0.0 in /usr/local/lib/python3.10/dist-packages (from build==0.9.0->pdfservices-sdk) (2.0.1)\n",
            "Requirement already satisfied: charset-normalizer~=2.0.0 in /usr/local/lib/python3.10/dist-packages (from requests==2.27.1->pdfservices-sdk) (2.0.12)\n",
            "Requirement already satisfied: idna<4,>=2.5 in /usr/local/lib/python3.10/dist-packages (from requests==2.27.1->pdfservices-sdk) (3.6)\n"
          ]
        }
      ],
      "source": [
        "\n",
        "!pip install pdfservices-sdk"
      ]
    },
    {
      "cell_type": "code",
      "source": [
        "%%writefile pdfservices-api-credentials.json\n",
        "\n",
        "{\n",
        " \"client_credentials\": {\n",
        "  \"client_id\": \"7ff5bf6cae1e49539df149143642659b\",\n",
        "  \"client_secret\": \"p8e-3GEBMO81nXg8AV2mPkOPS-ThaVyaAr61\"\n",
        " },\n",
        " \"service_principal_credentials\": {\n",
        "  \"organization_id\": \"87211D7265AE0D700A495C49@AdobeOrg\"\n",
        " }\n",
        "}"
      ],
      "metadata": {
        "colab": {
          "base_uri": "https://localhost:8080/"
        },
        "id": "kzTVPvDF5uSJ",
        "outputId": "c47a2e77-7346-4d3e-a646-30bd930c4376"
      },
      "execution_count": 2,
      "outputs": [
        {
          "output_type": "stream",
          "name": "stdout",
          "text": [
            "Writing pdfservices-api-credentials.json\n"
          ]
        }
      ]
    },
    {
      "cell_type": "code",
      "source": [
        "os.environ['PDF_SERVICES_CLIENT_ID'] = \"7ff5bf6cae1e49539df149143642659b\"\n",
        "os.environ['PDF_SERVICES_CLIENT_SECRET'] = \"p8e-3GEBMO81nXg8AV2mPkOPS-ThaVyaAr61\""
      ],
      "metadata": {
        "id": "w5ZVbuQb6ov5"
      },
      "execution_count": 10,
      "outputs": []
    },
    {
      "cell_type": "code",
      "source": [
        "from adobe.pdfservices.operation.auth.credentials import Credentials\n",
        "from adobe.pdfservices.operation.exception.exceptions import ServiceApiException, ServiceUsageException, SdkException\n",
        "from adobe.pdfservices.operation.execution_context import ExecutionContext\n",
        "from adobe.pdfservices.operation.io.file_ref import FileRef\n",
        "from adobe.pdfservices.operation.pdfops.extract_pdf_operation import ExtractPDFOperation\n",
        "from adobe.pdfservices.operation.pdfops.options.extractpdf.extract_pdf_options import ExtractPDFOptions\n",
        "from adobe.pdfservices.operation.pdfops.options.extractpdf.extract_element_type import ExtractElementType\n",
        "#from adobe.pdfservices.operation.pdfops.options.extractpdf.extract_pdf_options.ExtractPDFOptions import ExtractRenditionsElementType\n",
        "#from adobe.pdfservices.operation.pdfops.options.extractpdf import TableStructureType\n",
        "\n",
        "from adobe.pdfservices.operation.auth.credentials import Credentials\n",
        "from adobe.pdfservices.operation.exception.exceptions import ServiceApiException, ServiceUsageException, SdkException\n",
        "from adobe.pdfservices.operation.pdfops.options.extractpdf.extract_pdf_options import ExtractPDFOptions\n",
        "from adobe.pdfservices.operation.pdfops.options.extractpdf.extract_element_type import ExtractElementType\n",
        "from adobe.pdfservices.operation.pdfops.options.extractpdf.extract_renditions_element_type import \\\n",
        "    ExtractRenditionsElementType\n",
        "from adobe.pdfservices.operation.pdfops.options.extractpdf.table_structure_type import TableStructureType\n",
        "from adobe.pdfservices.operation.execution_context import ExecutionContext\n",
        "from adobe.pdfservices.operation.io.file_ref import FileRef\n",
        "from adobe.pdfservices.operation.pdfops.extract_pdf_operation import ExtractPDFOperation\n",
        "\n",
        "\n",
        "import os.path\n",
        "import zipfile\n",
        "import json"
      ],
      "metadata": {
        "id": "m4okK7Zh6N6N"
      },
      "execution_count": 26,
      "outputs": []
    },
    {
      "cell_type": "code",
      "source": [
        "input_pdf = \"Geminipaper.pdf\""
      ],
      "metadata": {
        "id": "B2mcLNfv6T43"
      },
      "execution_count": 7,
      "outputs": []
    },
    {
      "cell_type": "code",
      "source": [
        "#Initial setup, create credentials instance.\n",
        "credentials = Credentials.service_principal_credentials_builder().with_client_id(os.getenv('PDF_SERVICES_CLIENT_ID')).with_client_secret(os.getenv('PDF_SERVICES_CLIENT_SECRET')).build();\n",
        "\n",
        "#Create an ExecutionContext using credentials and create a new operation instance.\n",
        "execution_context = ExecutionContext.create(credentials)"
      ],
      "metadata": {
        "id": "Lh9EMeIa6hwR"
      },
      "execution_count": 12,
      "outputs": []
    },
    {
      "cell_type": "code",
      "source": [
        "import logging"
      ],
      "metadata": {
        "id": "b1I8kjJv7CxC"
      },
      "execution_count": 14,
      "outputs": []
    },
    {
      "cell_type": "code",
      "source": [
        "\n",
        "logging.basicConfig(level=os.environ.get(\"LOGLEVEL\", \"INFO\"))\n",
        "\n",
        "try:\n",
        "  #get base path.\n",
        "  #base_path = os.path.dirname(os.path.dirname(os.path.dirname(os.path.abspath(__file__))))\n",
        "  extract_pdf_operation = ExtractPDFOperation.create_new()\n",
        "  #Set operation input from a source file.\n",
        "  source = FileRef.create_from_local_file(input_pdf)\n",
        "  extract_pdf_operation.set_input(source)\n",
        "\n",
        "  #Build ExtractPDF options and set them into the operation\n",
        "  extract_pdf_options: ExtractPDFOptions = ExtractPDFOptions.builder() \\\n",
        "    .with_elements_to_extract([ExtractElementType.TEXT, ExtractElementType.TABLES]) \\\n",
        "    .with_element_to_extract_renditions(ExtractRenditionsElementType.TABLES) \\\n",
        "    .with_table_structure_format(TableStructureType.CSV) \\\n",
        "    .build()\n",
        "  extract_pdf_operation.set_options(extract_pdf_options)\n",
        "\n",
        "  #Execute the operation.\n",
        "  result: FileRef = extract_pdf_operation.execute(execution_context)\n",
        "\n",
        "  #Save the result to the specified location.\n",
        "  result.save_as(\"ExtractTextTableWithTableStructure.zip\")\n",
        "except (ServiceApiException, ServiceUsageException, SdkException):\n",
        "  logging.exception(\"Exception encountered while executing operation\")\n"
      ],
      "metadata": {
        "id": "a0Xhzrmf5WIg"
      },
      "execution_count": 29,
      "outputs": []
    },
    {
      "cell_type": "code",
      "source": [
        "## Review the contents"
      ],
      "metadata": {
        "id": "cqJyTmvO6H7u"
      },
      "execution_count": 30,
      "outputs": []
    },
    {
      "cell_type": "code",
      "source": [
        "import zipfile\n",
        "\n",
        "def list_zip_files(zip_file_path):\n",
        "    \"\"\"\n",
        "    Recursively lists all filenames within a given zip file.\n",
        "\n",
        "    Args:\n",
        "        zip_file_path (str): The path to the .zip file.\n",
        "    \"\"\"\n",
        "\n",
        "    with zipfile.ZipFile(zip_file_path, 'r') as zip_ref:\n",
        "        for info in zip_ref.infolist():\n",
        "            if not info.is_dir():  # Check if it's a file (not a directory)\n",
        "                print(info.filename)\n",
        "\n",
        "# Example usage:\n",
        "zip_file_path = \"ExtractTextTableWithTableStructure.zip\"  # Replace with your zip file path\n",
        "list_zip_files(zip_file_path)\n",
        "\n",
        "######\n",
        "# Unzip the file\n",
        "\n",
        "import zipfile\n",
        "\n",
        "def extract_zip(zip_file_path, extract_to=\".\"):\n",
        "    \"\"\"\n",
        "    Extracts the contents of a zip file to a specified directory.\n",
        "\n",
        "    Args:\n",
        "        zip_file_path (str): The path to the zip file.\n",
        "        extract_to (str, optional): The directory to extract the files into.\n",
        "                                    Defaults to the current working directory (\".\")\n",
        "    \"\"\"\n",
        "    with zipfile.ZipFile(zip_file_path, 'r') as zip_ref:\n",
        "        zip_ref.extractall(path=extract_to)\n",
        "\n",
        "# Example usage:\n",
        "zip_file_path = \"ExtractTextTableWithTableStructure.zip\"  # Replace with your zip file path\n",
        "extract_to = \"ExtractTextTableWithTableStructure\"  # Optional: Specify an extraction directory\n",
        "\n",
        "extract_zip(zip_file_path, extract_to)\n",
        "\n",
        "\n",
        "#####\n",
        "\n",
        "\n",
        "import json\n",
        "\n",
        "\n",
        "\n",
        "def print_json_structure(data, level=0):\n",
        "    \"\"\"\n",
        "    Prints the structure of the first 2 elements of a JSON object.\n",
        "\n",
        "    Args:\n",
        "        data: The JSON data.\n",
        "        level: Indentation level for pretty-printing.\n",
        "    \"\"\"\n",
        "\n",
        "    if level >= 2:  # Stop after printing 2 elements\n",
        "        return\n",
        "\n",
        "    if isinstance(data, dict):\n",
        "        print(\"  \" * level + str(list(data.keys())[0]) + \":\")  # Print first key\n",
        "        print_json_structure(data[list(data.keys())[0]], level + 1)  # Explore first value\n",
        "        level -= 1  # Decrement level for next element\n",
        "\n",
        "        if level >= 5:  # Stop after printing 2 elements\n",
        "            return\n",
        "\n",
        "        print(\"  \" * level + str(list(data.keys())[1]) + \":\")  # Print second key\n",
        "        print_json_structure(data[list(data.keys())[1]], level + 1)  # Explore second value\n",
        "\n",
        "    elif isinstance(data, list):\n",
        "        print(\"  \" * level + \"-\")  # Print list item indicator\n",
        "        print_json_structure(data[0], level + 1)  # Explore first element\n",
        "\n",
        "    else:\n",
        "        print(\"  \" * level + str(data))  # Print simple data type\n",
        "\n",
        "\n",
        "\n",
        "# Example usage:\n",
        "with open(\"ExtractTextTableWithTableStructure/structuredData.json\", 'r') as f:  # Replace with your JSON file path\n",
        "    json_data = json.load(f)\n",
        "\n",
        "print_json_structure(json_data)\n",
        "\n",
        "\n",
        "\n",
        "\n",
        "import os\n",
        "\n",
        "def list_csv_files_os(directory):\n",
        "    \"\"\"Lists CSV files in a directory using the 'os' module.\"\"\"\n",
        "    csv_files = []\n",
        "    for filename in os.listdir(directory):\n",
        "        if filename.endswith(\".csv\"):\n",
        "            csv_files.append(filename)\n",
        "    return csv_files\n",
        "\n",
        "# Example usage:\n",
        "directory = \"ExtractTextTableWithTableStructure/tables\"  # Replace with your folder path\n",
        "csv_list = list_csv_files_os(directory)\n",
        "print(csv_list)\n",
        "\n",
        "\n",
        "\n",
        "\n"
      ],
      "metadata": {
        "colab": {
          "base_uri": "https://localhost:8080/"
        },
        "id": "SdyRfbmQ_dlV",
        "outputId": "3fdd8862-4927-495a-807b-337d60d5def3"
      },
      "execution_count": 59,
      "outputs": [
        {
          "output_type": "stream",
          "name": "stdout",
          "text": [
            "structuredData.json\n",
            "tables/fileoutpart0.csv\n",
            "tables/fileoutpart29.png\n",
            "tables/fileoutpart2.csv\n",
            "tables/fileoutpart11.png\n",
            "tables/fileoutpart18.csv\n",
            "tables/fileoutpart21.png\n",
            "tables/fileoutpart22.csv\n",
            "tables/fileoutpart13.png\n",
            "tables/fileoutpart10.csv\n",
            "tables/fileoutpart8.csv\n",
            "tables/fileoutpart1.png\n",
            "tables/fileoutpart7.png\n",
            "tables/fileoutpart15.png\n",
            "tables/fileoutpart12.csv\n",
            "tables/fileoutpart23.png\n",
            "tables/fileoutpart19.png\n",
            "tables/fileoutpart3.png\n",
            "tables/fileoutpart28.csv\n",
            "tables/fileoutpart27.png\n",
            "tables/fileoutpart6.csv\n",
            "tables/fileoutpart26.csv\n",
            "tables/fileoutpart31.png\n",
            "tables/fileoutpart17.png\n",
            "tables/fileoutpart25.png\n",
            "tables/fileoutpart14.csv\n",
            "tables/fileoutpart20.csv\n",
            "tables/fileoutpart5.png\n",
            "tables/fileoutpart9.png\n",
            "tables/fileoutpart30.csv\n",
            "tables/fileoutpart16.csv\n",
            "tables/fileoutpart24.csv\n",
            "tables/fileoutpart4.csv\n",
            "version:\n",
            "  json_export:\n",
            "page_segmentation:\n",
            "  5\n",
            "extended_metadata:\n",
            "ID_instance:\n",
            "  33 C8 F7 CF F8 B8 B2 11 0A 00 67 45 8B 6B C6 23 \n",
            "ID_permanent:\n",
            "39 34 20 30 31 20 44 43 20 43 46 20 46 38 20 42 38 20 42 32 20 31 31 20 30 41 20 30 30 20 36 37 20 34 35 20 38 42 20 36 42 20 43 36 20 32 33 20 \n",
            "['fileoutpart24.csv', 'fileoutpart14.csv', 'fileoutpart10.csv', 'fileoutpart30.csv', 'fileoutpart22.csv', 'fileoutpart18.csv', 'fileoutpart2.csv', 'fileoutpart16.csv', 'fileoutpart12.csv', 'fileoutpart8.csv', 'fileoutpart26.csv', 'fileoutpart20.csv', 'fileoutpart28.csv', 'fileoutpart0.csv', 'fileoutpart6.csv', 'fileoutpart4.csv']\n"
          ]
        }
      ]
    },
    {
      "cell_type": "code",
      "source": [
        "\n",
        "## Parse JSON File to extract only text from Text data\n",
        "text = \" \"\n",
        "for item in json_data['elements']:\n",
        "  try:\n",
        "    text = text + \" \" + item['Text']\n",
        "  except:\n",
        "    pass\n",
        "\n",
        "with open(\"ExtractedText.txt\", \"w\", encoding=\"utf-8\") as file:\n",
        "        file.write(text)"
      ],
      "metadata": {
        "id": "MB7cOTtgAM0b"
      },
      "execution_count": 55,
      "outputs": []
    },
    {
      "cell_type": "code",
      "source": [
        "## Prepare for Chunking\n",
        "\n",
        "# 1.0 - Chunk Text files\n",
        "\n",
        "\n",
        "with open(\"ExtractedText.txt\") as f:\n",
        "    Extracted_text = f.read()\n",
        "\n",
        "#!pip install langchain\n",
        "import langchain\n",
        "from langchain.text_splitter import RecursiveCharacterTextSplitter\n",
        "\n",
        "text_splitter = RecursiveCharacterTextSplitter(\n",
        "    # Set a really small chunk size, just to show.\n",
        "    chunk_size=100,\n",
        "    chunk_overlap=20,\n",
        "    length_function=len,\n",
        "    is_separator_regex=False,\n",
        ")\n",
        "\n",
        "\n",
        "texts = text_splitter.create_documents([Extracted_text])\n",
        "print(texts[0])\n",
        "print(texts[1])\n",
        "\n",
        "\n",
        "from langchain_community.document_loaders.csv_loader import CSVLoader\n",
        "from langchain_community.document_loaders.csv_loader import UnstructuredCSVLoader\n",
        "\n",
        "\n",
        "for csvfile in csv_list:\n",
        "  loader = CSVLoader(file_path=\"ExtractTextTableWithTableStructure/tables/\"+csvfile)\n",
        "  #loader = UnstructuredCSVLoader(file_path=\"ExtractTextTableWithTableStructure/tables/\"+csvfile, mode=\"elements\")\n",
        "  try:\n",
        "    data = loader.load()\n",
        "  except:\n",
        "    print  (\"Csv file not parsed : \",csvfile)\n",
        "  #texts.append(data)\n",
        "  #print (csvfile, data)"
      ],
      "metadata": {
        "colab": {
          "base_uri": "https://localhost:8080/"
        },
        "id": "Qlud5w6EBwJS",
        "outputId": "92535d30-d6b3-429d-b9ae-8cf90dad4851"
      },
      "execution_count": 67,
      "outputs": [
        {
          "output_type": "stream",
          "name": "stdout",
          "text": [
            "page_content='2023-12-06  Gemini: A Family of Highly Capable Multimodal Models  Gemini Team, Google 1  This'\n",
            "page_content='Google 1  This report introduces a new family of multimodal models, Gemini, that exhibit remarkable'\n",
            "Csv file not parsed :  fileoutpart4.csv\n"
          ]
        }
      ]
    },
    {
      "cell_type": "code",
      "source": [
        "! pip install unstructured==0.5.6\n"
      ],
      "metadata": {
        "colab": {
          "base_uri": "https://localhost:8080/"
        },
        "id": "fGJ7YCjCDJVD",
        "outputId": "8565d888-0b7f-4957-81ef-1f2d7d879e04"
      },
      "execution_count": 64,
      "outputs": [
        {
          "output_type": "stream",
          "name": "stdout",
          "text": [
            "Collecting unstructured==0.5.6\n",
            "  Downloading unstructured-0.5.6.tar.gz (1.3 MB)\n",
            "\u001b[2K     \u001b[90m━━━━━━━━━━━━━━━━━━━━━━━━━━━━━━━━━━━━━━━━\u001b[0m \u001b[32m1.3/1.3 MB\u001b[0m \u001b[31m8.3 MB/s\u001b[0m eta \u001b[36m0:00:00\u001b[0m\n",
            "\u001b[?25h  Preparing metadata (setup.py) ... \u001b[?25l\u001b[?25hdone\n",
            "Collecting argilla (from unstructured==0.5.6)\n",
            "  Downloading argilla-1.22.0-py3-none-any.whl (3.2 MB)\n",
            "\u001b[2K     \u001b[90m━━━━━━━━━━━━━━━━━━━━━━━━━━━━━━━━━━━━━━━━\u001b[0m \u001b[32m3.2/3.2 MB\u001b[0m \u001b[31m19.9 MB/s\u001b[0m eta \u001b[36m0:00:00\u001b[0m\n",
            "\u001b[?25hRequirement already satisfied: lxml in /usr/local/lib/python3.10/dist-packages (from unstructured==0.5.6) (4.9.4)\n",
            "Requirement already satisfied: nltk in /usr/local/lib/python3.10/dist-packages (from unstructured==0.5.6) (3.8.1)\n",
            "Requirement already satisfied: openpyxl in /usr/local/lib/python3.10/dist-packages (from unstructured==0.5.6) (3.1.2)\n",
            "Requirement already satisfied: pandas in /usr/local/lib/python3.10/dist-packages (from unstructured==0.5.6) (1.5.3)\n",
            "Requirement already satisfied: pillow in /usr/local/lib/python3.10/dist-packages (from unstructured==0.5.6) (9.4.0)\n",
            "Collecting pypandoc (from unstructured==0.5.6)\n",
            "  Downloading pypandoc-1.12-py3-none-any.whl (20 kB)\n",
            "Collecting python-docx (from unstructured==0.5.6)\n",
            "  Downloading python_docx-1.1.0-py3-none-any.whl (239 kB)\n",
            "\u001b[2K     \u001b[90m━━━━━━━━━━━━━━━━━━━━━━━━━━━━━━━━━━━━━━━━\u001b[0m \u001b[32m239.6/239.6 kB\u001b[0m \u001b[31m31.3 MB/s\u001b[0m eta \u001b[36m0:00:00\u001b[0m\n",
            "\u001b[?25hCollecting python-pptx (from unstructured==0.5.6)\n",
            "  Downloading python_pptx-0.6.23-py3-none-any.whl (471 kB)\n",
            "\u001b[2K     \u001b[90m━━━━━━━━━━━━━━━━━━━━━━━━━━━━━━━━━━━━━━━━\u001b[0m \u001b[32m471.6/471.6 kB\u001b[0m \u001b[31m25.6 MB/s\u001b[0m eta \u001b[36m0:00:00\u001b[0m\n",
            "\u001b[?25hCollecting python-magic (from unstructured==0.5.6)\n",
            "  Downloading python_magic-0.4.27-py2.py3-none-any.whl (13 kB)\n",
            "Requirement already satisfied: markdown in /usr/local/lib/python3.10/dist-packages (from unstructured==0.5.6) (3.5.2)\n",
            "Requirement already satisfied: requests in /usr/local/lib/python3.10/dist-packages (from unstructured==0.5.6) (2.27.1)\n",
            "Requirement already satisfied: certifi>=2022.12.07 in /usr/local/lib/python3.10/dist-packages (from unstructured==0.5.6) (2022.12.7)\n",
            "Collecting httpx<=0.25,>=0.15 (from argilla->unstructured==0.5.6)\n",
            "  Downloading httpx-0.25.0-py3-none-any.whl (75 kB)\n",
            "\u001b[2K     \u001b[90m━━━━━━━━━━━━━━━━━━━━━━━━━━━━━━━━━━━━━━━━\u001b[0m \u001b[32m75.7/75.7 kB\u001b[0m \u001b[31m11.8 MB/s\u001b[0m eta \u001b[36m0:00:00\u001b[0m\n",
            "\u001b[?25hCollecting deprecated~=1.2.0 (from argilla->unstructured==0.5.6)\n",
            "  Downloading Deprecated-1.2.14-py2.py3-none-any.whl (9.6 kB)\n",
            "Requirement already satisfied: packaging>=20.0 in /usr/local/lib/python3.10/dist-packages (from argilla->unstructured==0.5.6) (23.2)\n",
            "Requirement already satisfied: pydantic>=1.10.7 in /usr/local/lib/python3.10/dist-packages (from argilla->unstructured==0.5.6) (1.10.13)\n",
            "Requirement already satisfied: wrapt<1.15,>=1.13 in /usr/local/lib/python3.10/dist-packages (from argilla->unstructured==0.5.6) (1.14.1)\n",
            "Requirement already satisfied: numpy<1.24.0 in /usr/local/lib/python3.10/dist-packages (from argilla->unstructured==0.5.6) (1.23.5)\n",
            "Requirement already satisfied: tqdm>=4.27.0 in /usr/local/lib/python3.10/dist-packages (from argilla->unstructured==0.5.6) (4.66.1)\n",
            "Collecting backoff (from argilla->unstructured==0.5.6)\n",
            "  Downloading backoff-2.2.1-py3-none-any.whl (15 kB)\n",
            "Collecting monotonic (from argilla->unstructured==0.5.6)\n",
            "  Downloading monotonic-1.6-py2.py3-none-any.whl (8.2 kB)\n",
            "Requirement already satisfied: rich!=13.1.0 in /usr/local/lib/python3.10/dist-packages (from argilla->unstructured==0.5.6) (13.7.0)\n",
            "Requirement already satisfied: typer<0.10.0,>=0.6.0 in /usr/local/lib/python3.10/dist-packages (from argilla->unstructured==0.5.6) (0.9.0)\n",
            "Requirement already satisfied: python-dateutil>=2.8.1 in /usr/local/lib/python3.10/dist-packages (from pandas->unstructured==0.5.6) (2.8.2)\n",
            "Requirement already satisfied: pytz>=2020.1 in /usr/local/lib/python3.10/dist-packages (from pandas->unstructured==0.5.6) (2023.3.post1)\n",
            "Requirement already satisfied: click in /usr/local/lib/python3.10/dist-packages (from nltk->unstructured==0.5.6) (8.1.7)\n",
            "Requirement already satisfied: joblib in /usr/local/lib/python3.10/dist-packages (from nltk->unstructured==0.5.6) (1.3.2)\n",
            "Requirement already satisfied: regex>=2021.8.3 in /usr/local/lib/python3.10/dist-packages (from nltk->unstructured==0.5.6) (2023.6.3)\n",
            "Requirement already satisfied: et-xmlfile in /usr/local/lib/python3.10/dist-packages (from openpyxl->unstructured==0.5.6) (1.1.0)\n",
            "Requirement already satisfied: typing-extensions in /usr/local/lib/python3.10/dist-packages (from python-docx->unstructured==0.5.6) (4.5.0)\n",
            "Collecting XlsxWriter>=0.5.7 (from python-pptx->unstructured==0.5.6)\n",
            "  Downloading XlsxWriter-3.1.9-py3-none-any.whl (154 kB)\n",
            "\u001b[2K     \u001b[90m━━━━━━━━━━━━━━━━━━━━━━━━━━━━━━━━━━━━━━━━\u001b[0m \u001b[32m154.8/154.8 kB\u001b[0m \u001b[31m21.8 MB/s\u001b[0m eta \u001b[36m0:00:00\u001b[0m\n",
            "\u001b[?25hRequirement already satisfied: urllib3<1.27,>=1.21.1 in /usr/local/lib/python3.10/dist-packages (from requests->unstructured==0.5.6) (1.26.13)\n",
            "Requirement already satisfied: charset-normalizer~=2.0.0 in /usr/local/lib/python3.10/dist-packages (from requests->unstructured==0.5.6) (2.0.12)\n",
            "Requirement already satisfied: idna<4,>=2.5 in /usr/local/lib/python3.10/dist-packages (from requests->unstructured==0.5.6) (3.6)\n",
            "Collecting httpcore<0.19.0,>=0.18.0 (from httpx<=0.25,>=0.15->argilla->unstructured==0.5.6)\n",
            "  Downloading httpcore-0.18.0-py3-none-any.whl (76 kB)\n",
            "\u001b[2K     \u001b[90m━━━━━━━━━━━━━━━━━━━━━━━━━━━━━━━━━━━━━━━━\u001b[0m \u001b[32m76.0/76.0 kB\u001b[0m \u001b[31m11.8 MB/s\u001b[0m eta \u001b[36m0:00:00\u001b[0m\n",
            "\u001b[?25hRequirement already satisfied: sniffio in /usr/local/lib/python3.10/dist-packages (from httpx<=0.25,>=0.15->argilla->unstructured==0.5.6) (1.3.0)\n",
            "Requirement already satisfied: six>=1.5 in /usr/local/lib/python3.10/dist-packages (from python-dateutil>=2.8.1->pandas->unstructured==0.5.6) (1.16.0)\n",
            "Requirement already satisfied: markdown-it-py>=2.2.0 in /usr/local/lib/python3.10/dist-packages (from rich!=13.1.0->argilla->unstructured==0.5.6) (3.0.0)\n",
            "Requirement already satisfied: pygments<3.0.0,>=2.13.0 in /usr/local/lib/python3.10/dist-packages (from rich!=13.1.0->argilla->unstructured==0.5.6) (2.14.0)\n",
            "Requirement already satisfied: anyio<5.0,>=3.0 in /usr/local/lib/python3.10/dist-packages (from httpcore<0.19.0,>=0.18.0->httpx<=0.25,>=0.15->argilla->unstructured==0.5.6) (3.7.1)\n",
            "Collecting h11<0.15,>=0.13 (from httpcore<0.19.0,>=0.18.0->httpx<=0.25,>=0.15->argilla->unstructured==0.5.6)\n",
            "  Downloading h11-0.14.0-py3-none-any.whl (58 kB)\n",
            "\u001b[2K     \u001b[90m━━━━━━━━━━━━━━━━━━━━━━━━━━━━━━━━━━━━━━━━\u001b[0m \u001b[32m58.3/58.3 kB\u001b[0m \u001b[31m8.4 MB/s\u001b[0m eta \u001b[36m0:00:00\u001b[0m\n",
            "\u001b[?25hRequirement already satisfied: mdurl~=0.1 in /usr/local/lib/python3.10/dist-packages (from markdown-it-py>=2.2.0->rich!=13.1.0->argilla->unstructured==0.5.6) (0.1.2)\n",
            "Requirement already satisfied: exceptiongroup in /usr/local/lib/python3.10/dist-packages (from anyio<5.0,>=3.0->httpcore<0.19.0,>=0.18.0->httpx<=0.25,>=0.15->argilla->unstructured==0.5.6) (1.2.0)\n",
            "Building wheels for collected packages: unstructured\n",
            "  Building wheel for unstructured (setup.py) ... \u001b[?25l\u001b[?25hdone\n",
            "  Created wheel for unstructured: filename=unstructured-0.5.6-py3-none-any.whl size=1315700 sha256=b56bbb5ca4c8e29465fac0cc9bb1fbc84cdee56fd78da1079a7015d3984e29dc\n",
            "  Stored in directory: /root/.cache/pip/wheels/8d/ba/38/39adebfeae4a6d48b6851964610929b716c66c861f7f6404f4\n",
            "Successfully built unstructured\n",
            "Installing collected packages: monotonic, XlsxWriter, python-magic, python-docx, pypandoc, h11, deprecated, backoff, python-pptx, httpcore, httpx, argilla, unstructured\n",
            "Successfully installed XlsxWriter-3.1.9 argilla-1.22.0 backoff-2.2.1 deprecated-1.2.14 h11-0.14.0 httpcore-0.18.0 httpx-0.25.0 monotonic-1.6 pypandoc-1.12 python-docx-1.1.0 python-magic-0.4.27 python-pptx-0.6.23 unstructured-0.5.6\n"
          ]
        }
      ]
    },
    {
      "cell_type": "code",
      "source": [],
      "metadata": {
        "id": "OtiCDl49I8Zq"
      },
      "execution_count": null,
      "outputs": []
    }
  ]
}